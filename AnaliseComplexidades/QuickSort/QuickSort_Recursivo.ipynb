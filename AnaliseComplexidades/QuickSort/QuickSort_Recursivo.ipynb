{
  "nbformat": 4,
  "nbformat_minor": 0,
  "metadata": {
    "colab": {
      "provenance": [],
      "authorship_tag": "ABX9TyOAHcG5Udo3ffkesUIM8GNf",
      "include_colab_link": true
    },
    "kernelspec": {
      "name": "python3",
      "display_name": "Python 3"
    },
    "language_info": {
      "name": "python"
    }
  },
  "cells": [
    {
      "cell_type": "markdown",
      "metadata": {
        "id": "view-in-github",
        "colab_type": "text"
      },
      "source": [
        "<a href=\"https://colab.research.google.com/github/thigoai/codigo_pratica1/blob/main/AnaliseComplexidades/QuickSort/QuickSort_Recursivo.ipynb\" target=\"_parent\"><img src=\"https://colab.research.google.com/assets/colab-badge.svg\" alt=\"Open In Colab\"/></a>"
      ]
    },
    {
      "cell_type": "markdown",
      "source": [
        "#QuickSort-Recursivo\n",
        "\n",
        "O QuickSort é um algoritmo de ordenação que funciona dividindo repetidamente o array em duas partes menores até que cada subarray tenha no máximo um elemento.\n",
        "\n",
        "```\n",
        "function quickSort(array, esquerda, direita) {\n",
        "    se esquerda >= direita {\n",
        "\tretornar\n",
        "    }\n",
        "\n",
        "    pivoIndex = particionar(array, esquerda, direita)\n",
        "\n",
        "        \n",
        "    quickSort(array, esquerda, pivoIndex - 1)\n",
        "    quickSort(array, pivoIndex + 1, direita)\n",
        "}\n",
        "```\n",
        "A função *particionar* percorre o array usando o índice j, comparando cada elemento array[j] com o pivô. Se o valor de array[j] é menor ou igual ao pivô, ele é trocado com o elemento na posição i, que mantém a posição de divisão entre os elementos menores e maiores que o pivô. Ao final do loop, todos os elementos à esquerda de i são menores ou iguais ao pivô, e todos os elementos à direita são maiores.\n",
        "```\n",
        "function particionar(array, esquerda, direita) {\n",
        "\n",
        "    pivo = array[direita]\n",
        "    i = esquerda - 1\n",
        "\n",
        "    para j de esquerda até direita - 1 {\n",
        "        se array[j] ≤ pivo {\n",
        "            i += 1\n",
        "            trocar array[i] com array[j]\n",
        "        }\n",
        "    }\n",
        "\n",
        "    trocar array[i + 1] com array[direita]\n",
        "    retornar i + 1\n",
        "}\n",
        "```\n",
        "---\n",
        "No pior caso do QuickSort, a função particionar divide o array de forma altamente desbalanceada, resultando em uma sublista vazia e uma sublista com n−1 elementos. Isso acontece, por exemplo, quando o array já está ordenado e o pivô escolhido é o maior ou menor elemento. Como a função particionar tem complexidade Θ(1), a recorrencia pode ser expressa como:\n",
        "\n",
        "<br>\n",
        "$$\n",
        "T(n) = T(n-1) + n\n",
        "$$\n",
        "<br>\n",
        "\n",
        "No melhor caso do QuickSort, cada chamada de particionamento divide o array em duas sublistas de tamanho aproximadamente n/2. Isso resulta na seguinte recorrência:\n",
        "\n",
        "$$\n",
        "T(n) = 2T(\\frac{n}{2}) + n\n",
        "$$\n",
        "\n",
        "Onde 2T(\\frac{n}{2}) representa o custo das duas chamadas recursivas em subarrays de tamanho \\frac{n}{2}.\n",
        "\n",
        "Como visto na analise do Merge Sort, tal recorrência tem custo:\n",
        "\n",
        "<br>\n",
        "$$\n",
        "T(n) = O(n.log n)\n",
        "$$\n",
        "<br>\n"
      ],
      "metadata": {
        "id": "ifZUniuhvg-l"
      }
    },
    {
      "cell_type": "markdown",
      "source": [
        "#Por Iteração\n",
        "Considerando que o recorrência acima. Vamos expandir-la até encontrar o caso base.\n",
        "<br>\n",
        "Aplica-se *n* -1 sobre a fórmula de T(n). E assim por diante.\n",
        "\n",
        "<br>\n",
        "$$\n",
        "\\begin{align*}\n",
        "T(n) &= T(n-1) + n,\\\\\n",
        "&= (T(n-2) + n) + n\\\\\n",
        "&= ((T(n - 3) + n)+ n) + n\\\\\n",
        "&= ...\\\\\n",
        "T(n) &= T(n-k) + k.n\n",
        "\\end{align*}\n",
        "$$\n",
        "<br>\n",
        "\n",
        "Note que,\n",
        "\n",
        "<br>\n",
        "$$\n",
        "\\begin{align*}\n",
        "n - k = 1 &\\implies k = n - 1\\\\\n",
        "\\end{align*}\n",
        "$$\n",
        "<br>\n",
        "\n",
        "Aplicando na recorrência:\n",
        "\n",
        "<br>\n",
        "$$\n",
        "\\begin{align*}\n",
        "T(n) &= T(n-k) + k.n,\\\\\n",
        "&= T(n-(n-1)) + n(n-1)\\\\\n",
        "&= T(1) + n^2 - n\\\\\n",
        "&= 1 + n^2 - n\n",
        "\\end{align*}\n",
        "$$\n",
        "<br>\n",
        "\n",
        "Portanto, a complexidade no pior caso é:\n",
        "\n",
        "<br>\n",
        "$$\n",
        "\\begin{align*}\n",
        "T(n) &= O(n^2)\n",
        "\\end{align*}\n",
        "$$\n",
        "<br>"
      ],
      "metadata": {
        "id": "laX2Qzih-8ik"
      }
    }
  ]
}